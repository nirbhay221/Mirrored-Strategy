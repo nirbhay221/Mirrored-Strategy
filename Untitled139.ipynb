{
  "nbformat": 4,
  "nbformat_minor": 0,
  "metadata": {
    "colab": {
      "name": "Untitled139.ipynb",
      "provenance": [],
      "collapsed_sections": []
    },
    "kernelspec": {
      "name": "python3",
      "display_name": "Python 3"
    },
    "accelerator": "GPU"
  },
  "cells": [
    {
      "cell_type": "code",
      "metadata": {
        "id": "X9jEUdWX_wMI"
      },
      "source": [
        "import tensorflow as tf\r\n",
        "import numpy as np\r\n",
        "import matplotlib.pyplot as plt\r\n",
        "import pandas as pd \r\n",
        "from tqdm import tqdm\r\n",
        "import tensorflow_hub as hub\r\n",
        "import tensorflow_datasets as tfds\r\n",
        "import os \r\n",
        "import io\r\n"
      ],
      "execution_count": null,
      "outputs": []
    },
    {
      "cell_type": "code",
      "metadata": {
        "id": "NH0864uAlyQR"
      },
      "source": [
        "splits,info = tfds.load('oxford_flowers102',with_info = True,as_supervised = True,split = ['train[:80%]','train[80%:90%]','train[90%:]'],data_dir = 'data/')\r\n",
        "(train_examples,val_examples,test_examples )= splits\r\n",
        "num_examples = info.splits['train'].num_examples\r\n",
        "num_classes = info.features['label'].num_classes"
      ],
      "execution_count": null,
      "outputs": []
    },
    {
      "cell_type": "code",
      "metadata": {
        "colab": {
          "base_uri": "https://localhost:8080/"
        },
        "id": "D92aHa2mnQfZ",
        "outputId": "51c3ca67-5238-4593-e645-bc513bb00b98"
      },
      "source": [
        "strategy = tf.distribute.MirroredStrategy()"
      ],
      "execution_count": null,
      "outputs": [
        {
          "output_type": "stream",
          "text": [
            "INFO:tensorflow:Using MirroredStrategy with devices ('/job:localhost/replica:0/task:0/device:GPU:0',)\n"
          ],
          "name": "stdout"
        },
        {
          "output_type": "stream",
          "text": [
            "INFO:tensorflow:Using MirroredStrategy with devices ('/job:localhost/replica:0/task:0/device:GPU:0',)\n"
          ],
          "name": "stderr"
        }
      ]
    },
    {
      "cell_type": "code",
      "metadata": {
        "colab": {
          "base_uri": "https://localhost:8080/"
        },
        "id": "66_zaNsGpT2z",
        "outputId": "1c13b764-78f8-41b9-8880-b1ac41abeb23"
      },
      "source": [
        "print('number of devices: {}'.format(strategy.num_replicas_in_sync))"
      ],
      "execution_count": null,
      "outputs": [
        {
          "output_type": "stream",
          "text": [
            "number of devices: 1\n"
          ],
          "name": "stdout"
        }
      ]
    },
    {
      "cell_type": "code",
      "metadata": {
        "id": "HfFen2RPpaAR"
      },
      "source": [
        "buffer_size=  num_examples\r\n",
        "epochs = 10\r\n",
        "pixels = 224\r\n",
        "image_size = (pixels,pixels)\r\n",
        "module_handle= 'https://tfhub.dev/tensorflow/resnet_50/feature_vector/1'\r\n"
      ],
      "execution_count": null,
      "outputs": []
    },
    {
      "cell_type": "code",
      "metadata": {
        "id": "2Rhv-IeLybtN"
      },
      "source": [
        "def format_image(image,label):\r\n",
        "  image = tf.image.resize(image,size=image_size)/255.0\r\n",
        "  return image,label"
      ],
      "execution_count": null,
      "outputs": []
    },
    {
      "cell_type": "code",
      "metadata": {
        "id": "BLETKeHgyqpD"
      },
      "source": [
        "def global_batch_size(batch_size_per_replica,strategy):\r\n",
        "  global_batch_size = batch_size_per_replica*strategy.num_replicas_in_sync\r\n",
        "  return global_batch_size"
      ],
      "execution_count": null,
      "outputs": []
    },
    {
      "cell_type": "code",
      "metadata": {
        "colab": {
          "base_uri": "https://localhost:8080/"
        },
        "id": "Ad70X-8fzGpZ",
        "outputId": "0742b667-81d4-43df-cfce-8daa9566cc5f"
      },
      "source": [
        "batch_size = 64\r\n",
        "global_batch_size = global_batch_size(batch_size,strategy)\r\n",
        "print(global_batch_size)"
      ],
      "execution_count": null,
      "outputs": [
        {
          "output_type": "stream",
          "text": [
            "64\n"
          ],
          "name": "stdout"
        }
      ]
    },
    {
      "cell_type": "code",
      "metadata": {
        "id": "o1jEy5ZT0kXM"
      },
      "source": [
        "train_batches = train_examples.shuffle(buffer_size=num_examples//4).map(format_image).batch(batch_size).prefetch(1)\r\n",
        "validation_batches = val_examples.map(format_image).batch(batch_size).prefetch(1)\r\n",
        "test_batches  = test_examples.map(format_image).batch(1)\r\n"
      ],
      "execution_count": null,
      "outputs": []
    },
    {
      "cell_type": "code",
      "metadata": {
        "id": "-_eNwO0H2C8H"
      },
      "source": [
        "def distribute_datasets(strategy,train_batches,validation_batches,test_batches):\r\n",
        "  train_ds = strategy.experimental_distribute_dataset(train_batches)\r\n",
        "  val_ds = strategy.experimental_distribute_dataset(validation_batches)\r\n",
        "  test_ds = strategy.experimental_distribute_dataset(test_batches)\r\n",
        "  return train_ds,val_ds,test_ds"
      ],
      "execution_count": null,
      "outputs": []
    },
    {
      "cell_type": "code",
      "metadata": {
        "id": "6tbSTVSI3RIQ"
      },
      "source": [
        "train_ds,val_ds,test_ds = distribute_datasets(strategy,train_batches,validation_batches,test_batches)"
      ],
      "execution_count": null,
      "outputs": []
    },
    {
      "cell_type": "code",
      "metadata": {
        "colab": {
          "base_uri": "https://localhost:8080/"
        },
        "id": "WYRbwWXM4Glr",
        "outputId": "4bbced46-de11-4db8-bda8-0e1a449941a6"
      },
      "source": [
        "print(type(train_ds))\r\n",
        "print(type(val_ds))\r\n",
        "print(type(test_ds))"
      ],
      "execution_count": null,
      "outputs": [
        {
          "output_type": "stream",
          "text": [
            "<class 'tensorflow.python.distribute.input_lib.DistributedDataset'>\n",
            "<class 'tensorflow.python.distribute.input_lib.DistributedDataset'>\n",
            "<class 'tensorflow.python.distribute.input_lib.DistributedDataset'>\n"
          ],
          "name": "stdout"
        }
      ]
    },
    {
      "cell_type": "code",
      "metadata": {
        "colab": {
          "base_uri": "https://localhost:8080/"
        },
        "id": "IkF6dP-U5r7P",
        "outputId": "cc4f83d1-1a2d-48fe-af84-6e8416a47a1a"
      },
      "source": [
        "for x in train_ds:\r\n",
        "  break;\r\n",
        "print(f'x is a tuple that contains {len(x)} values')\r\n",
        "print(f'x[0] contains the features and has a shape of {x[0].shape}')\r\n",
        "print(f'so it has {x[0].shape[0]} examples , and with image of size {x[0].shape[1:]}')\r\n",
        "print(f'x[1] contains the labels and has shape {x[1].shape}')"
      ],
      "execution_count": null,
      "outputs": [
        {
          "output_type": "stream",
          "text": [
            "x is a tuple that contains 2 values\n",
            "x[0] contains the features and has a shape of (64, 224, 224, 3)\n",
            "so it has 64 examples , and with image of size (224, 224, 3)\n",
            "x[1] contains the labels and has shape (64,)\n"
          ],
          "name": "stdout"
        }
      ]
    },
    {
      "cell_type": "code",
      "metadata": {
        "id": "EPzIaKND8p8v"
      },
      "source": [
        "class ResNetModel(tf.keras.Model):\r\n",
        "  def __init__(self,classes):\r\n",
        "    super(ResNetModel,self).__init__()\r\n",
        "    self.feature_extractor = hub.KerasLayer(module_handle,trainable=False)\r\n",
        "    self.classifier = tf.keras.layers.Dense(classes,activation='softmax')\r\n",
        "  def call(self,inputs):\r\n",
        "    x= self.feature_extractor(inputs)\r\n",
        "    x= self.classifier(x)\r\n",
        "    return x"
      ],
      "execution_count": null,
      "outputs": []
    },
    {
      "cell_type": "code",
      "metadata": {
        "id": "9borGQh8__WP"
      },
      "source": [
        "checkpoint_dir ='./training_checkpoints'\r\n",
        "checkpoint_prefix = os.path.join(checkpoint_dir,'ckpt')"
      ],
      "execution_count": null,
      "outputs": []
    },
    {
      "cell_type": "code",
      "metadata": {
        "id": "AXxaYA5KAw6y"
      },
      "source": [
        "with strategy.scope():\r\n",
        "  loss_object = tf.keras.losses.SparseCategoricalCrossentropy(reduction=tf.keras.losses.Reduction.NONE)\r\n",
        "  def compute_loss(labels,predictions):\r\n",
        "    loss = loss_object(labels,predictions)\r\n",
        "    return tf.nn.compute_average_loss(loss,global_batch_size=global_batch_size)\r\n",
        "  test_loss = tf.keras.metrics.Mean(name= 'test_loss')"
      ],
      "execution_count": null,
      "outputs": []
    },
    {
      "cell_type": "code",
      "metadata": {
        "id": "3NIxRO_0CNeo"
      },
      "source": [
        "with strategy.scope():\r\n",
        "  train_accuracy = tf.keras.metrics.SparseCategoricalAccuracy(name='train_accuracy')\r\n",
        "  test_accuracy = tf.keras.metrics.SparseCategoricalAccuracy(name = 'test_accuracy')"
      ],
      "execution_count": null,
      "outputs": []
    },
    {
      "cell_type": "code",
      "metadata": {
        "id": "oKeEqyPzD0vc"
      },
      "source": [
        "with strategy.scope():\r\n",
        "  model = ResNetModel(classes=num_classes)\r\n",
        "  optimizer = tf.keras.optimizers.Adam()\r\n",
        "  checkpoint= tf.train.Checkpoint(optimizer=optimizer,model=model)"
      ],
      "execution_count": null,
      "outputs": []
    },
    {
      "cell_type": "code",
      "metadata": {
        "id": "DvE-1Gp3EfGf"
      },
      "source": [
        "def train_test_step_fns(model,strategy,compute_loss,test_accuracy,train_accuracy,test_loss,loss_object):\r\n",
        "  with strategy.scope():\r\n",
        "    def train_step(inputs):\r\n",
        "      images,labels = inputs\r\n",
        "      with tf.GradientTape() as tp:\r\n",
        "        predictions = model(images,training = True)\r\n",
        "        losses = compute_loss(labels,predictions)\r\n",
        "      gradients = tp.gradient(losses,model.trainable_variables)\r\n",
        "      optimizer.apply_gradients(zip(gradients,model.trainable_variables))\r\n",
        "      train_accuracy.update_state(labels,predictions)\r\n",
        "      return losses\r\n",
        "    def test_step(inputs):\r\n",
        "      images,labels = inputs\r\n",
        "      predictions = model(images , training=False)\r\n",
        "      t_loss = compute_loss(labels,predictions)\r\n",
        "      test_loss.update_state(t_loss)\r\n",
        "      test_accuracy.update_state(labels,predictions)\r\n",
        "    return train_step,test_step\r\n",
        "    \r\n",
        "      "
      ],
      "execution_count": null,
      "outputs": []
    },
    {
      "cell_type": "code",
      "metadata": {
        "id": "2dqypVg8P1sl"
      },
      "source": [
        "train_step,test_step = train_test_step_fns(model,strategy,compute_loss,test_accuracy,train_accuracy,test_loss,loss_object)"
      ],
      "execution_count": null,
      "outputs": []
    },
    {
      "cell_type": "code",
      "metadata": {
        "colab": {
          "base_uri": "https://localhost:8080/"
        },
        "id": "Gg5N62bTSeQx",
        "outputId": "c2f65c7f-0e05-4649-c8e9-226d8fa064cf"
      },
      "source": [
        "def func1(args=()):\r\n",
        "  print(f'number of arguments passed is {len(args)}')\r\n",
        "list_of_inputs= [1,2]\r\n",
        "print('When passing in args=list_of_inputs')\r\n",
        "func1(args = list_of_inputs)\r\n",
        "print()\r\n",
        "print('When passing in args=(list_of_inputs)')\r\n",
        "func1(args = (list_of_inputs))\r\n",
        "print()\r\n",
        "print('When passing in args=(list_of_inputs,)')\r\n",
        "func1(args = (list_of_inputs,))\r\n",
        "print()"
      ],
      "execution_count": null,
      "outputs": [
        {
          "output_type": "stream",
          "text": [
            "When passing in args=list_of_inputs\n",
            "number of arguments passed is 2\n",
            "\n",
            "When passing in args=(list_of_inputs)\n",
            "number of arguments passed is 2\n",
            "\n",
            "When passing in args=(list_of_inputs,)\n",
            "number of arguments passed is 1\n",
            "\n"
          ],
          "name": "stdout"
        }
      ]
    },
    {
      "cell_type": "code",
      "metadata": {
        "id": "Uiq9Jx9f9qfp"
      },
      "source": [
        "def distributed_train_test_step_fn(strategy,train_step,test_step,model,compute_loss,train_accuracy,test_accuracy,test_loss,optimizer,loss_object):\r\n",
        "  with strategy.scope():\r\n",
        "    @tf.function\r\n",
        "    def distributed_train_step(dataset_inputs):\r\n",
        "      per_replica_loss = strategy.run(train_step,args = (dataset_inputs,))\r\n",
        "      return strategy.reduce(tf.distribute.ReduceOp.SUM,per_replica_loss,axis=None)\r\n",
        "    @tf.function\r\n",
        "    def distributed_test_step(dataset_inputs):\r\n",
        "      return strategy.run(test_step,args=(dataset_inputs,))\r\n",
        "  return distributed_train_step,distributed_test_step"
      ],
      "execution_count": null,
      "outputs": []
    },
    {
      "cell_type": "code",
      "metadata": {
        "id": "eNmxwS5T_7JU"
      },
      "source": [
        "distributed_train_step,distributed_test_step = distributed_train_test_step_fn(strategy,train_step,test_step,model,compute_loss,train_accuracy,test_accuracy,test_loss,optimizer,loss_object)"
      ],
      "execution_count": null,
      "outputs": []
    },
    {
      "cell_type": "code",
      "metadata": {
        "colab": {
          "base_uri": "https://localhost:8080/"
        },
        "id": "C_x62-VMAUSz",
        "outputId": "0d2f0e59-d9c6-440a-d4e0-4ae6b2c6a585"
      },
      "source": [
        "with strategy.scope():\r\n",
        "  for epoch in range(10):\r\n",
        "    total_loss = 0.0 \r\n",
        "    num_batches = 0\r\n",
        "    for x in tqdm(train_ds):\r\n",
        "      total_loss += distributed_train_step(x)\r\n",
        "      num_batches +=1\r\n",
        "    train_loss = total_loss/num_batches\r\n",
        "    for x in test_ds:\r\n",
        "      distributed_test_step(x)\r\n",
        "    template  = {\r\n",
        "        'Epoch:{},loss:{},accuracy:{},test_loss:{},test_accuracy:{}'\r\n",
        "    }\r\n",
        "    print(\r\n",
        "        'Epoch:{},loss:{},accuracy:{},test_loss:{},test_accuracy:{}'.format(epoch+1, train_loss,\r\n",
        "                               train_accuracy.result()*100, test_loss.result(),\r\n",
        "                               test_accuracy.result()*100))\r\n",
        "\r\n",
        "    test_loss.reset_states()\r\n",
        "    train_accuracy.reset_states()\r\n",
        "    test_accuracy.reset_states()"
      ],
      "execution_count": null,
      "outputs": [
        {
          "output_type": "stream",
          "text": [
            "13it [00:02,  4.63it/s]\n",
            "0it [00:00, ?it/s]"
          ],
          "name": "stderr"
        },
        {
          "output_type": "stream",
          "text": [
            "Epoch:1,loss:0.5177134275436401,accuracy:67.99019622802734,test_loss:0.032500844448804855,test_accuracy:54.90196228027344\n"
          ],
          "name": "stdout"
        },
        {
          "output_type": "stream",
          "text": [
            "13it [00:02,  4.66it/s]\n",
            "0it [00:00, ?it/s]"
          ],
          "name": "stderr"
        },
        {
          "output_type": "stream",
          "text": [
            "Epoch:2,loss:0.3579781651496887,accuracy:98.7745132446289,test_loss:0.023122968152165413,test_accuracy:65.68627166748047\n"
          ],
          "name": "stdout"
        },
        {
          "output_type": "stream",
          "text": [
            "13it [00:02,  4.64it/s]\n",
            "0it [00:00, ?it/s]"
          ],
          "name": "stderr"
        },
        {
          "output_type": "stream",
          "text": [
            "Epoch:3,loss:0.27031365036964417,accuracy:99.50980377197266,test_loss:0.022036023437976837,test_accuracy:67.64705657958984\n"
          ],
          "name": "stdout"
        },
        {
          "output_type": "stream",
          "text": [
            "13it [00:02,  4.62it/s]\n",
            "0it [00:00, ?it/s]"
          ],
          "name": "stderr"
        },
        {
          "output_type": "stream",
          "text": [
            "Epoch:4,loss:0.20738443732261658,accuracy:99.75489807128906,test_loss:0.020952124148607254,test_accuracy:66.66667175292969\n"
          ],
          "name": "stdout"
        },
        {
          "output_type": "stream",
          "text": [
            "13it [00:02,  4.64it/s]\n",
            "0it [00:00, ?it/s]"
          ],
          "name": "stderr"
        },
        {
          "output_type": "stream",
          "text": [
            "Epoch:5,loss:0.16711267828941345,accuracy:99.87745666503906,test_loss:0.020371561869978905,test_accuracy:68.62745666503906\n"
          ],
          "name": "stdout"
        },
        {
          "output_type": "stream",
          "text": [
            "13it [00:02,  4.61it/s]\n",
            "0it [00:00, ?it/s]"
          ],
          "name": "stderr"
        },
        {
          "output_type": "stream",
          "text": [
            "Epoch:6,loss:0.13809403777122498,accuracy:99.87745666503906,test_loss:0.01998031884431839,test_accuracy:70.5882339477539\n"
          ],
          "name": "stdout"
        },
        {
          "output_type": "stream",
          "text": [
            "13it [00:02,  4.59it/s]\n",
            "0it [00:00, ?it/s]"
          ],
          "name": "stderr"
        },
        {
          "output_type": "stream",
          "text": [
            "Epoch:7,loss:0.11468286067247391,accuracy:99.87745666503906,test_loss:0.01939915120601654,test_accuracy:71.5686264038086\n"
          ],
          "name": "stdout"
        },
        {
          "output_type": "stream",
          "text": [
            "13it [00:02,  4.57it/s]\n",
            "0it [00:00, ?it/s]"
          ],
          "name": "stderr"
        },
        {
          "output_type": "stream",
          "text": [
            "Epoch:8,loss:0.09910215437412262,accuracy:99.87745666503906,test_loss:0.019044026732444763,test_accuracy:71.5686264038086\n"
          ],
          "name": "stdout"
        },
        {
          "output_type": "stream",
          "text": [
            "13it [00:02,  4.56it/s]\n",
            "0it [00:00, ?it/s]"
          ],
          "name": "stderr"
        },
        {
          "output_type": "stream",
          "text": [
            "Epoch:9,loss:0.08563683927059174,accuracy:100.0,test_loss:0.018858086317777634,test_accuracy:70.5882339477539\n"
          ],
          "name": "stdout"
        },
        {
          "output_type": "stream",
          "text": [
            "13it [00:02,  4.55it/s]\n"
          ],
          "name": "stderr"
        },
        {
          "output_type": "stream",
          "text": [
            "Epoch:10,loss:0.074327751994133,accuracy:100.0,test_loss:0.01853415183722973,test_accuracy:73.52941131591797\n"
          ],
          "name": "stdout"
        }
      ]
    },
    {
      "cell_type": "code",
      "metadata": {
        "colab": {
          "base_uri": "https://localhost:8080/"
        },
        "id": "bI3J0mRJCnen",
        "outputId": "153952e3-fee7-4da6-d149-9156a04d4566"
      },
      "source": [
        "\r\n",
        "model_save_path = \"./tmp/mymodel/1/\"\r\n",
        "tf.saved_model.save(model, model_save_path)"
      ],
      "execution_count": null,
      "outputs": [
        {
          "output_type": "stream",
          "text": [
            "INFO:tensorflow:Assets written to: ./tmp/mymodel/1/assets\n"
          ],
          "name": "stdout"
        },
        {
          "output_type": "stream",
          "text": [
            "INFO:tensorflow:Assets written to: ./tmp/mymodel/1/assets\n"
          ],
          "name": "stderr"
        }
      ]
    },
    {
      "cell_type": "code",
      "metadata": {
        "id": "R9ArIle9Hfbi"
      },
      "source": [
        "import os\r\n",
        "import zipfile\r\n",
        "\r\n",
        "def zipdir(path, ziph):\r\n",
        "    # ziph is zipfile handle\r\n",
        "    for root, dirs, files in os.walk(path):\r\n",
        "        for file in files:\r\n",
        "            ziph.write(os.path.join(root, file))\r\n",
        "\r\n",
        "zipf = zipfile.ZipFile('./mymodel.zip', 'w', zipfile.ZIP_DEFLATED)\r\n",
        "zipdir('./tmp/mymodel/1/', zipf)\r\n",
        "zipf.close()"
      ],
      "execution_count": null,
      "outputs": []
    },
    {
      "cell_type": "code",
      "metadata": {
        "id": "oDD2pTONHjTp"
      },
      "source": [
        ""
      ],
      "execution_count": null,
      "outputs": []
    }
  ]
}