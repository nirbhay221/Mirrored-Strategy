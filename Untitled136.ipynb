{
  "nbformat": 4,
  "nbformat_minor": 0,
  "metadata": {
    "colab": {
      "name": "Untitled136.ipynb",
      "provenance": [],
      "collapsed_sections": []
    },
    "kernelspec": {
      "name": "python3",
      "display_name": "Python 3"
    },
    "accelerator": "GPU"
  },
  "cells": [
    {
      "cell_type": "code",
      "metadata": {
        "id": "ZWUUvAWeTXex"
      },
      "source": [
        "import tensorflow as tf\r\n",
        "import tensorflow_datasets as tfds \r\n",
        "import numpy as np\r\n",
        "import matplotlib.pyplot as plt \r\n"
      ],
      "execution_count": null,
      "outputs": []
    },
    {
      "cell_type": "code",
      "metadata": {
        "id": "qXetT0Tbf8fh"
      },
      "source": [
        "split,info = tfds.load('mnist',with_info = True,as_supervised=True,data_dir ='./data')\r\n",
        "train,test = split['train'],split['test']"
      ],
      "execution_count": null,
      "outputs": []
    },
    {
      "cell_type": "code",
      "metadata": {
        "colab": {
          "base_uri": "https://localhost:8080/"
        },
        "id": "QCOFGQO5iYbm",
        "outputId": "798920a5-8d7e-4c9b-e212-f5549e5454dd"
      },
      "source": [
        "strategy = tf.distribute.MirroredStrategy()\r\n",
        "print('number of devices :{} '.format(strategy.num_replicas_in_sync))"
      ],
      "execution_count": null,
      "outputs": [
        {
          "output_type": "stream",
          "text": [
            "INFO:tensorflow:Using MirroredStrategy with devices ('/job:localhost/replica:0/task:0/device:GPU:0',)\n"
          ],
          "name": "stdout"
        },
        {
          "output_type": "stream",
          "text": [
            "INFO:tensorflow:Using MirroredStrategy with devices ('/job:localhost/replica:0/task:0/device:GPU:0',)\n"
          ],
          "name": "stderr"
        },
        {
          "output_type": "stream",
          "text": [
            "number of devices :1 \n"
          ],
          "name": "stdout"
        }
      ]
    },
    {
      "cell_type": "code",
      "metadata": {
        "id": "FP7OC1JMkSrU"
      },
      "source": [
        "train_num_examples = info.splits['train'].num_examples\r\n",
        "test_num_examples = info.splits['test'].num_examples"
      ],
      "execution_count": null,
      "outputs": []
    },
    {
      "cell_type": "code",
      "metadata": {
        "id": "9J3oZ9tclKi8"
      },
      "source": [
        "buffer_size=10000\r\n",
        "batch_size= 64\r\n"
      ],
      "execution_count": null,
      "outputs": []
    },
    {
      "cell_type": "code",
      "metadata": {
        "id": "AkkILiDem59s"
      },
      "source": [
        "def scale(image,label):\r\n",
        "  image = tf.cast(image,tf.float32)\r\n",
        "  image = image/255.\r\n",
        "  return image,label"
      ],
      "execution_count": null,
      "outputs": []
    },
    {
      "cell_type": "code",
      "metadata": {
        "id": "ozGJ2O1knKbr"
      },
      "source": [
        "train_ds = train.map(scale).cache().batch(batch_size)\r\n",
        "test_ds = test.map(scale).batch(batch_size)\r\n"
      ],
      "execution_count": null,
      "outputs": []
    },
    {
      "cell_type": "code",
      "metadata": {
        "id": "NSeF6JxznbuG"
      },
      "source": [
        "\r\n",
        "model = tf.keras.models.Sequential([\r\n",
        "                                      tf.keras.layers.Conv2D(32,3,activation='relu',input_shape= (28,28,1)),\r\n",
        "                                      tf.keras.layers.MaxPooling2D(),\r\n",
        "                                      tf.keras.layers.Flatten(),\r\n",
        "                                      tf.keras.layers.Dense(64,activation='relu'),\r\n",
        "                                      tf.keras.layers.Dense(10)\r\n",
        "  ])"
      ],
      "execution_count": null,
      "outputs": []
    },
    {
      "cell_type": "code",
      "metadata": {
        "id": "K4iO9MEMoBat"
      },
      "source": [
        "model.compile(loss= tf.keras.losses.SparseCategoricalCrossentropy(from_logits=True),metrics=['accuracy'],optimizer= tf.keras.optimizers.Adam())\r\n"
      ],
      "execution_count": null,
      "outputs": []
    },
    {
      "cell_type": "code",
      "metadata": {
        "colab": {
          "base_uri": "https://localhost:8080/"
        },
        "id": "Wfx1xVHyoRue",
        "outputId": "06e22a49-abb4-4233-c83b-39ebe985dea1"
      },
      "source": [
        "model.fit(train_ds,epochs=12)"
      ],
      "execution_count": null,
      "outputs": [
        {
          "output_type": "stream",
          "text": [
            "Epoch 1/12\n",
            "938/938 [==============================] - 7s 7ms/step - loss: 0.4053 - accuracy: 0.8837\n",
            "Epoch 2/12\n",
            "938/938 [==============================] - 3s 3ms/step - loss: 0.0773 - accuracy: 0.9781\n",
            "Epoch 3/12\n",
            "938/938 [==============================] - 2s 3ms/step - loss: 0.0521 - accuracy: 0.9847\n",
            "Epoch 4/12\n",
            "938/938 [==============================] - 2s 3ms/step - loss: 0.0390 - accuracy: 0.9886\n",
            "Epoch 5/12\n",
            "938/938 [==============================] - 2s 3ms/step - loss: 0.0299 - accuracy: 0.9918\n",
            "Epoch 6/12\n",
            "938/938 [==============================] - 2s 3ms/step - loss: 0.0221 - accuracy: 0.9942\n",
            "Epoch 7/12\n",
            "938/938 [==============================] - 2s 2ms/step - loss: 0.0165 - accuracy: 0.9953\n",
            "Epoch 8/12\n",
            "938/938 [==============================] - 2s 2ms/step - loss: 0.0125 - accuracy: 0.9965\n",
            "Epoch 9/12\n",
            "938/938 [==============================] - 2s 2ms/step - loss: 0.0096 - accuracy: 0.9973\n",
            "Epoch 10/12\n",
            "938/938 [==============================] - 2s 2ms/step - loss: 0.0084 - accuracy: 0.9974\n",
            "Epoch 11/12\n",
            "938/938 [==============================] - 2s 3ms/step - loss: 0.0079 - accuracy: 0.9974\n",
            "Epoch 12/12\n",
            "938/938 [==============================] - 2s 3ms/step - loss: 0.0066 - accuracy: 0.9977\n"
          ],
          "name": "stdout"
        },
        {
          "output_type": "execute_result",
          "data": {
            "text/plain": [
              "<tensorflow.python.keras.callbacks.History at 0x7f7c85f8dac8>"
            ]
          },
          "metadata": {
            "tags": []
          },
          "execution_count": 22
        }
      ]
    },
    {
      "cell_type": "code",
      "metadata": {
        "id": "-_rPpNcXoXDU"
      },
      "source": [
        ""
      ],
      "execution_count": null,
      "outputs": []
    }
  ]
}